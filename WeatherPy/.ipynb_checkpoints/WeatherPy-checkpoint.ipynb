{
 "cells": [
  {
   "cell_type": "markdown",
   "metadata": {},
   "source": [
    "# WeatherPy\n",
    "----\n",
    "\n",
    "#### Note\n",
    "* Instructions have been included for each segment. You do not have to follow them exactly, but they are included to help you think through the steps."
   ]
  },
  {
   "cell_type": "code",
   "execution_count": 162,
   "metadata": {
    "scrolled": true
   },
   "outputs": [],
   "source": [
    "# Dependencies and Setup\n",
    "import matplotlib.pyplot as plt\n",
    "import pandas as pd\n",
    "import numpy as np\n",
    "import requests\n",
    "import time\n",
    "from scipy.stats import linregress\n",
    "\n",
    "# Import API key\n",
    "from api_keys import weather_api_key\n",
    "\n",
    "# Incorporated citipy to determine city based on latitude and longitude\n",
    "from citipy import citipy\n",
    "\n",
    "# Range of latitudes and longitudes\n",
    "lat_range = (-90, 90)\n",
    "lng_range = (-180, 180)"
   ]
  },
  {
   "cell_type": "markdown",
   "metadata": {},
   "source": [
    "## Generate Cities List"
   ]
  },
  {
   "cell_type": "code",
   "execution_count": 3,
   "metadata": {},
   "outputs": [
    {
     "data": {
      "text/plain": [
       "621"
      ]
     },
     "execution_count": 3,
     "metadata": {},
     "output_type": "execute_result"
    }
   ],
   "source": [
    "# List for holding lat_lngs and cities\n",
    "lat_lngs = []\n",
    "cities = []\n",
    "\n",
    "# Create a set of random lat and lng combinations\n",
    "lats = np.random.uniform(lat_range[0], lat_range[1], size=1500)\n",
    "lngs = np.random.uniform(lng_range[0], lng_range[1], size=1500)\n",
    "lat_lngs = zip(lats, lngs)\n",
    "\n",
    "# Identify nearest city for each lat, lng combination\n",
    "for lat_lng in lat_lngs:\n",
    "    city = citipy.nearest_city(lat_lng[0], lat_lng[1]).city_name\n",
    "    \n",
    "    # If the city is unique, then add it to a our cities list\n",
    "    if city not in cities:\n",
    "        cities.append(city)\n",
    "\n",
    "# Print the city count to confirm sufficient count\n",
    "len(cities)"
   ]
  },
  {
   "cell_type": "markdown",
   "metadata": {},
   "source": [
    "### Perform API Calls\n",
    "* Perform a weather check on each city using a series of successive API calls.\n",
    "* Include a print log of each city as it'sbeing processed (with the city number and city name).\n",
    "\n",
    "> **HINT:** The OpenWeatherMap API only allows 60 calls per minute under their free plan. Try using `time.sleep(60)` after each set of 50 cities to avoid API errors due to large calls."
   ]
  },
  {
   "cell_type": "code",
   "execution_count": 8,
   "metadata": {
    "scrolled": true
   },
   "outputs": [
    {
     "name": "stdout",
     "output_type": "stream",
     "text": [
      "City not found. skipping.\n",
      "Processing record 1|hermanus\n",
      "Processing record 2|kodiak\n",
      "Processing record 3|avarua\n",
      "Processing record 4|port alfred\n",
      "Processing record 5|yellowknife\n",
      "Processing record 6|cap malheureux\n",
      "Processing record 7|auki\n",
      "Processing record 8|albany\n",
      "Processing record 9|rikitea\n",
      "Processing record 10|provideniya\n",
      "Processing record 11|butaritari\n",
      "City not found. skipping.\n",
      "Processing record 12|bluff\n",
      "City not found. skipping.\n",
      "Processing record 13|hofn\n",
      "Processing record 14|ayan\n",
      "Processing record 15|vaini\n",
      "Processing record 16|ushuaia\n",
      "Processing record 17|sobolevo\n",
      "Processing record 18|fairbanks\n",
      "Processing record 19|klaksvik\n",
      "Processing record 20|mataura\n",
      "Processing record 21|port moresby\n",
      "Processing record 22|lorengau\n",
      "Processing record 23|kahului\n",
      "Processing record 24|deputatskiy\n",
      "Processing record 25|ucluelet\n",
      "Processing record 26|kaitangata\n",
      "Processing record 27|chuy\n",
      "Processing record 28|chilca\n",
      "Processing record 29|acapulco\n",
      "Processing record 30|honiara\n",
      "Processing record 31|salalah\n",
      "Processing record 32|hithadhoo\n",
      "Processing record 33|busselton\n",
      "Processing record 34|pombia\n",
      "Processing record 35|atuona\n",
      "Processing record 36|coquimbo\n",
      "Processing record 37|bengkulu\n",
      "Processing record 38|nanortalik\n",
      "City not found. skipping.\n",
      "Processing record 39|thompson\n",
      "Processing record 40|bethel\n",
      "Processing record 41|cherskiy\n",
      "Processing record 42|bredasdorp\n",
      "Processing record 43|ponta do sol\n",
      "Processing record 44|bonavista\n",
      "Processing record 45|lebu\n",
      "Processing record 46|hobart\n",
      "Processing record 47|calama\n",
      "Processing record 48|murray bridge\n",
      "Processing record 49|preston\n",
      "Processing record 50|puerto ayora\n",
      "Processing record 51|longyearbyen\n",
      "Processing record 52|punta arenas\n",
      "Processing record 53|ramona\n",
      "Processing record 54|mikhaylovka\n",
      "Processing record 55|qaanaaq\n",
      "Processing record 56|nikolskoye\n",
      "Processing record 57|kavieng\n",
      "City not found. skipping.\n",
      "Processing record 58|cidreira\n",
      "City not found. skipping.\n",
      "Processing record 59|maniitsoq\n",
      "Processing record 60|tessalit\n",
      "Processing record 61|tsogni\n",
      "Processing record 62|henties bay\n",
      "Processing record 63|ilulissat\n",
      "Processing record 64|dikson\n",
      "Processing record 65|westport\n",
      "Processing record 66|cape town\n",
      "Processing record 67|dzierzoniow\n",
      "Processing record 68|tuktoyaktuk\n",
      "Processing record 69|sangar\n",
      "Processing record 70|san jeronimo\n",
      "Processing record 71|wajid\n",
      "Processing record 72|saskylakh\n",
      "Processing record 73|pajapan\n",
      "Processing record 74|wasilla\n",
      "Processing record 75|bud\n",
      "Processing record 76|sabya\n",
      "Processing record 77|college\n",
      "Processing record 78|ayagoz\n",
      "Processing record 79|davila\n",
      "Processing record 80|gao\n",
      "Processing record 81|vardo\n",
      "Processing record 82|souillac\n",
      "Processing record 83|bogalusa\n",
      "Processing record 84|tuatapere\n",
      "Processing record 85|ribeira grande\n",
      "Processing record 86|zhezkazgan\n",
      "Processing record 87|atikokan\n",
      "Processing record 88|labuhan\n",
      "Processing record 89|jamestown\n",
      "Processing record 90|luderitz\n",
      "Processing record 91|ekhabi\n",
      "Processing record 92|townsville\n",
      "Processing record 93|vestmannaeyjar\n",
      "Processing record 94|mount gambier\n",
      "Processing record 95|castro\n",
      "Processing record 96|inta\n",
      "City not found. skipping.\n",
      "Processing record 97|harper\n",
      "Processing record 98|shimoda\n",
      "City not found. skipping.\n",
      "Processing record 99|radhanpur\n",
      "Processing record 100|bac lieu\n",
      "Processing record 101|torbay\n",
      "Processing record 102|sisimiut\n",
      "Processing record 103|qidong\n",
      "Processing record 104|chipata\n",
      "Processing record 105|igrim\n",
      "Processing record 106|severo-kurilsk\n",
      "Processing record 107|shelburne\n",
      "City not found. skipping.\n",
      "Processing record 108|qingdao\n",
      "Processing record 109|barrow\n",
      "Processing record 110|polunochnoye\n",
      "Processing record 111|bambous virieux\n",
      "Processing record 112|hirara\n",
      "Processing record 113|neuquen\n",
      "Processing record 114|new norfolk\n",
      "Processing record 115|saldanha\n",
      "Processing record 116|kapaa\n",
      "Processing record 117|iqaluit\n",
      "Processing record 118|evinayong\n",
      "Processing record 119|narsaq\n",
      "Processing record 120|georgetown\n",
      "Processing record 121|mayumba\n",
      "Processing record 122|lakes entrance\n",
      "Processing record 123|skerries\n",
      "Processing record 124|isangel\n",
      "Processing record 125|gazanjyk\n",
      "Processing record 126|nelson bay\n",
      "City not found. skipping.\n",
      "Processing record 127|kavaratti\n",
      "Processing record 128|starokostyantyniv\n",
      "Processing record 129|willowmore\n",
      "Processing record 130|upernavik\n",
      "Processing record 131|latung\n",
      "Processing record 132|walvis bay\n",
      "Processing record 133|naliya\n",
      "City not found. skipping.\n",
      "Processing record 134|champerico\n",
      "Processing record 135|charters towers\n",
      "Processing record 136|tayu\n",
      "Processing record 137|saint anthony\n",
      "Processing record 138|ostrovnoy\n",
      "Processing record 139|batagay\n",
      "Processing record 140|praia\n",
      "Processing record 141|vuktyl\n",
      "Processing record 142|bara\n",
      "Processing record 143|urumqi\n",
      "Processing record 144|axim\n",
      "Processing record 145|aitape\n",
      "Processing record 146|zarechnyy\n",
      "Processing record 147|jieznas\n",
      "Processing record 148|alofi\n",
      "Processing record 149|khor\n",
      "Processing record 150|chara\n",
      "Processing record 151|acarau\n",
      "Processing record 152|oktyabrskoye\n",
      "Processing record 153|soma\n",
      "Processing record 154|angoche\n",
      "Processing record 155|fort nelson\n",
      "Processing record 156|belmonte\n",
      "Processing record 157|yakeshi\n",
      "Processing record 158|pleasanton\n",
      "Processing record 159|lavrentiya\n",
      "Processing record 160|west odessa\n",
      "Processing record 161|mahajanga\n",
      "City not found. skipping.\n",
      "Processing record 162|sorland\n",
      "City not found. skipping.\n",
      "Processing record 163|sola\n",
      "Processing record 164|dourbali\n",
      "Processing record 165|wagar\n",
      "Processing record 166|portland\n",
      "Processing record 167|mackay\n",
      "Processing record 168|pangnirtung\n",
      "City not found. skipping.\n",
      "Processing record 169|porto novo\n",
      "Processing record 170|menongue\n",
      "Processing record 171|faanui\n",
      "Processing record 172|gijon\n",
      "City not found. skipping.\n",
      "Processing record 173|tokur\n",
      "Processing record 174|mahebourg\n",
      "Processing record 175|talavera de la reina\n",
      "Processing record 176|atar\n",
      "Processing record 177|airai\n",
      "Processing record 178|zaozerne\n",
      "Processing record 179|honolulu\n",
      "Processing record 180|carnarvon\n",
      "Processing record 181|saint-philippe\n",
      "Processing record 182|port blair\n",
      "Processing record 183|rocha\n",
      "Processing record 184|asau\n",
      "Processing record 185|praya\n",
      "Processing record 186|mar del plata\n",
      "City not found. skipping.\n",
      "Processing record 187|alta\n",
      "Processing record 188|chokurdakh\n",
      "Processing record 189|oytal\n",
      "Processing record 190|nova olimpia\n",
      "Processing record 191|hasaki\n",
      "Processing record 192|trincomalee\n",
      "Processing record 193|karaton\n",
      "Processing record 194|arlit\n",
      "Processing record 195|grand falls\n",
      "Processing record 196|constitucion\n",
      "Processing record 197|puerto baquerizo moreno\n",
      "Processing record 198|pemba\n",
      "Processing record 199|fujin\n",
      "Processing record 200|ulladulla\n",
      "Processing record 201|elliot lake\n",
      "Processing record 202|srednekolymsk\n",
      "City not found. skipping.\n",
      "Processing record 203|katsuura\n",
      "Processing record 204|cabo san lucas\n",
      "Processing record 205|hami\n",
      "Processing record 206|omboue\n",
      "Processing record 207|russell\n",
      "Processing record 208|kuntaur\n",
      "Processing record 209|dossor\n",
      "Processing record 210|petropavlovsk-kamchatskiy\n",
      "Processing record 211|nikolayevsk-na-amure\n",
      "Processing record 212|benghazi\n",
      "Processing record 213|fortuna\n",
      "Processing record 214|marshall\n",
      "Processing record 215|kruisfontein\n",
      "Processing record 216|hanamaki\n",
      "Processing record 217|hobyo\n",
      "Processing record 218|bairiki\n",
      "Processing record 219|bangui\n",
      "Processing record 220|cocachacra\n",
      "Processing record 221|boden\n",
      "City not found. skipping.\n",
      "Processing record 222|hilo\n",
      "Processing record 223|san patricio\n",
      "Processing record 224|emerald\n",
      "Processing record 225|hay river\n",
      "Processing record 226|camabatela\n",
      "Processing record 227|norman wells\n",
      "City not found. skipping.\n",
      "Processing record 228|gat\n",
      "Processing record 229|saint-joseph\n",
      "Processing record 230|vientiane\n",
      "Processing record 231|uglovka\n",
      "Processing record 232|hanzhong\n",
      "City not found. skipping.\n",
      "Processing record 233|shaowu\n",
      "Processing record 234|poum\n",
      "Processing record 235|nioro\n",
      "Processing record 236|sistranda\n",
      "Processing record 237|preobrazheniye\n",
      "Processing record 238|talnakh\n",
      "Processing record 239|manavalakurichi\n",
      "City not found. skipping.\n",
      "Processing record 240|novoagansk\n",
      "Processing record 241|arraial do cabo\n",
      "Processing record 242|martapura\n",
      "Processing record 243|hambantota\n",
      "City not found. skipping.\n",
      "Processing record 244|viedma\n",
      "Processing record 245|sitka\n",
      "Processing record 246|buala\n",
      "Processing record 247|aguas belas\n",
      "Processing record 248|calbuco\n",
      "Processing record 249|tromso\n",
      "Processing record 250|alta floresta\n",
      "Processing record 251|basarabeasca\n",
      "Processing record 252|grand gaube\n",
      "Processing record 253|mount isa\n",
      "Processing record 254|ziarat\n",
      "Processing record 255|nome\n",
      "Processing record 256|san ignacio\n",
      "Processing record 257|itaituba\n",
      "Processing record 258|baytown\n",
      "City not found. skipping.\n",
      "Processing record 259|olinda\n",
      "Processing record 260|thinadhoo\n",
      "Processing record 261|avera\n",
      "Processing record 262|port elizabeth\n",
      "Processing record 263|plouzane\n",
      "Processing record 264|metro\n",
      "Processing record 265|siguiri\n",
      "Processing record 266|krasnyy yar\n",
      "Processing record 267|dunedin\n",
      "Processing record 268|san cristobal\n",
      "Processing record 269|alugan\n",
      "Processing record 270|kaeo\n",
      "Processing record 271|sfantu gheorghe\n",
      "Processing record 272|papara\n",
      "Processing record 273|okha\n",
      "Processing record 274|tilichiki\n",
      "Processing record 275|margate\n",
      "City not found. skipping.\n",
      "Processing record 276|grindavik\n",
      "Processing record 277|kango\n",
      "Processing record 278|denpasar\n",
      "City not found. skipping.\n",
      "Processing record 279|mitsamiouli\n",
      "City not found. skipping.\n",
      "Processing record 280|belen\n",
      "Processing record 281|khani\n",
      "Processing record 282|coihaique\n",
      "Processing record 283|uvalde\n",
      "City not found. skipping.\n",
      "Processing record 284|tairua\n",
      "Processing record 285|monte azul\n",
      "Processing record 286|faya\n",
      "Processing record 287|tabou\n",
      "City not found. skipping.\n",
      "Processing record 288|teguise\n",
      "Processing record 289|tarakan\n",
      "Processing record 290|ambilobe\n",
      "Processing record 291|suntar\n",
      "Processing record 292|ukiah\n",
      "Processing record 293|dudinka\n",
      "Processing record 294|touros\n",
      "Processing record 295|oussouye\n",
      "Processing record 296|ugoofaaru\n",
      "City not found. skipping.\n",
      "Processing record 297|contamana\n",
      "Processing record 298|antalaha\n",
      "City not found. skipping.\n",
      "Processing record 299|aljezur\n",
      "Processing record 300|jalu\n",
      "Processing record 301|zdvinsk\n",
      "Processing record 302|lompoc\n",
      "Processing record 303|calatayud\n",
      "Processing record 304|tura\n",
      "Processing record 305|seddon\n",
      "City not found. skipping.\n",
      "Processing record 306|loikaw\n",
      "Processing record 307|pale\n",
      "Processing record 308|chifeng\n",
      "Processing record 309|auckland\n",
      "Processing record 310|akureyri\n",
      "Processing record 311|koumra\n",
      "Processing record 312|vostok\n",
      "City not found. skipping.\n",
      "Processing record 313|cockburn town\n",
      "Processing record 314|saint george\n",
      "Processing record 315|namibe\n",
      "Processing record 316|lata\n",
      "City not found. skipping.\n",
      "Processing record 317|geraldton\n",
      "Processing record 318|bar-le-duc\n",
      "Processing record 319|broken hill\n",
      "Processing record 320|yar-sale\n",
      "Processing record 321|quatre cocos\n",
      "Processing record 322|beloha\n",
      "Processing record 323|morro bay\n",
      "Processing record 324|svetlaya\n",
      "Processing record 325|lanxi\n",
      "Processing record 326|tasiilaq\n",
      "Processing record 327|port hedland\n",
      "Processing record 328|dingle\n",
      "City not found. skipping.\n",
      "Processing record 329|eureka\n",
      "Processing record 330|hamilton\n",
      "Processing record 331|oranjemund\n",
      "Processing record 332|northam\n",
      "Processing record 333|maragogi\n",
      "Processing record 334|tiksi\n",
      "City not found. skipping.\n",
      "Processing record 335|ambon\n",
      "Processing record 336|beaverlodge\n",
      "Processing record 337|los llanos de aridane\n",
      "Processing record 338|saint-quentin\n",
      "Processing record 339|itapeva\n",
      "Processing record 340|mahon\n",
      "Processing record 341|codrington\n",
      "Processing record 342|amga\n",
      "Processing record 343|vestmanna\n",
      "Processing record 344|ndele\n",
      "Processing record 345|port augusta\n",
      "Processing record 346|thouars\n",
      "Processing record 347|belyy yar\n",
      "Processing record 348|machico\n",
      "Processing record 349|okhotsk\n",
      "Processing record 350|haines junction\n",
      "Processing record 351|kristiinankaupunki\n",
      "Processing record 352|lagoa\n",
      "Processing record 353|tomatlan\n",
      "Processing record 354|brae\n",
      "Processing record 355|vao\n",
      "Processing record 356|pujili\n",
      "Processing record 357|redmond\n",
      "Processing record 358|roma\n",
      "Processing record 359|khatanga\n",
      "Processing record 360|orlik\n",
      "Processing record 361|ahipara\n",
      "Processing record 362|umm lajj\n",
      "Processing record 363|takoradi\n",
      "Processing record 364|tecoanapa\n",
      "Processing record 365|saint-augustin\n",
      "Processing record 366|longyan\n",
      "Processing record 367|lapua\n",
      "Processing record 368|riyadh\n",
      "Processing record 369|pasighat\n",
      "Processing record 370|tawau\n",
      "Processing record 371|vrede\n",
      "Processing record 372|victoria\n",
      "Processing record 373|aklavik\n",
      "Processing record 374|olafsvik\n",
      "Processing record 375|lafiagi\n",
      "City not found. skipping.\n",
      "Processing record 376|taoudenni\n",
      "Processing record 377|tefe\n",
      "Processing record 378|port-cartier\n",
      "Processing record 379|kasama\n",
      "Processing record 380|warrnambool\n",
      "Processing record 381|peleduy\n",
      "Processing record 382|marzuq\n",
      "Processing record 383|mayo\n",
      "Processing record 384|nantucket\n",
      "City not found. skipping.\n",
      "Processing record 385|terrace\n",
      "Processing record 386|stabat\n",
      "Processing record 387|meulaboh\n",
      "Processing record 388|abancay\n",
      "Processing record 389|batagay-alyta\n",
      "Processing record 390|kholm\n",
      "Processing record 391|maarianhamina\n",
      "City not found. skipping.\n",
      "Processing record 392|ampanihy\n",
      "Processing record 393|el paso\n",
      "Processing record 394|khuzhir\n",
      "Processing record 395|garoua\n",
      "Processing record 396|bodmin\n",
      "Processing record 397|deltona\n",
      "Processing record 398|boyuibe\n",
      "Processing record 399|dwarka\n",
      "Processing record 400|ishigaki\n",
      "Processing record 401|buraydah\n",
      "Processing record 402|clyde river\n",
      "Processing record 403|pimenta bueno\n",
      "Processing record 404|kloulklubed\n",
      "Processing record 405|bilma\n",
      "Processing record 406|martyush\n",
      "City not found. skipping.\n",
      "Processing record 407|havelock\n",
      "Processing record 408|sungaipenuh\n",
      "Processing record 409|milkovo\n",
      "Processing record 410|edd\n",
      "Processing record 411|sinop\n",
      "Processing record 412|goundam\n",
      "Processing record 413|yerbogachen\n",
      "Processing record 414|pyapon\n",
      "Processing record 415|mehamn\n",
      "Processing record 416|nogliki\n",
      "Processing record 417|waspan\n",
      "Processing record 418|mucurapo\n",
      "Processing record 419|pinega\n",
      "Processing record 420|plainview\n",
      "Processing record 421|pochutla\n",
      "Processing record 422|novyy urgal\n",
      "City not found. skipping.\n",
      "Processing record 423|pacifica\n",
      "Processing record 424|esna\n",
      "Processing record 425|vrangel\n",
      "Processing record 426|chimbote\n",
      "Processing record 427|bilisht\n",
      "City not found. skipping.\n",
      "Processing record 428|tynda\n",
      "Processing record 429|moron\n",
      "Processing record 430|mazagao\n",
      "Processing record 431|san francisco de coray\n",
      "Processing record 432|bisira\n",
      "Processing record 433|mogadishu\n",
      "Processing record 434|livadi\n",
      "Processing record 435|beringovskiy\n",
      "Processing record 436|port shepstone\n",
      "Processing record 437|cabinda\n",
      "City not found. skipping.\n",
      "Processing record 438|vilhena\n",
      "Processing record 439|otane\n",
      "Processing record 440|yunhe\n",
      "Processing record 441|hovd\n",
      "Processing record 442|nueva concepcion\n",
      "Processing record 443|rantauprapat\n",
      "Processing record 444|kamaishi\n",
      "Processing record 445|da nang\n",
      "Processing record 446|alihe\n",
      "Processing record 447|port hardy\n",
      "Processing record 448|palmer\n",
      "Processing record 449|usvyaty\n",
      "Processing record 450|vila velha\n",
      "Processing record 451|vila franca do campo\n",
      "Processing record 452|manakara\n",
      "Processing record 453|tigil\n",
      "Processing record 454|miri\n",
      "Processing record 455|roald\n",
      "Processing record 456|balkhash\n",
      "City not found. skipping.\n",
      "Processing record 457|bujoreni\n",
      "Processing record 458|harnosand\n",
      "Processing record 459|gogrial\n",
      "Processing record 460|phan thiet\n",
      "Processing record 461|san carlos\n",
      "City not found. skipping.\n",
      "Processing record 462|rivne\n",
      "Processing record 463|east london\n",
      "Processing record 464|alexandria\n",
      "Processing record 465|corn island\n",
      "Processing record 466|torrington\n",
      "Processing record 467|paralimni\n",
      "Processing record 468|ahuimanu\n",
      "Processing record 469|banfora\n",
      "Processing record 470|hatod\n",
      "Processing record 471|panguna\n",
      "Processing record 472|novochernorechenskiy\n",
      "Processing record 473|dengzhou\n",
      "Processing record 474|sigmaringen\n",
      "Processing record 475|mulege\n",
      "Processing record 476|necochea\n",
      "Processing record 477|flinders\n",
      "Processing record 478|taixing\n",
      "Processing record 479|kargil\n",
      "Processing record 480|carlisle\n",
      "Processing record 481|port lincoln\n",
      "Processing record 482|sunbury\n",
      "Processing record 483|hualmay\n",
      "Processing record 484|zorritos\n",
      "Processing record 485|yumen\n",
      "Processing record 486|kandrian\n",
      "Processing record 487|sur\n",
      "Processing record 488|payson\n",
      "Processing record 489|la ronge\n",
      "Processing record 490|gushikawa\n",
      "Processing record 491|maldonado\n",
      "Processing record 492|pangkalanbuun\n",
      "Processing record 493|havoysund\n",
      "Processing record 494|zemio\n",
      "Processing record 495|egvekinot\n",
      "Processing record 496|katobu\n",
      "Processing record 497|the valley\n",
      "Processing record 498|okoneshnikovo\n",
      "Processing record 499|jinchang\n",
      "Processing record 500|ust-kuyga\n",
      "Processing record 501|itarema\n",
      "City not found. skipping.\n",
      "Processing record 502|pevek\n",
      "Processing record 503|aswan\n",
      "Processing record 504|ixtapa\n",
      "City not found. skipping.\n",
      "Processing record 505|tandil\n",
      "Processing record 506|la primavera\n",
      "Processing record 507|kuna\n",
      "Processing record 508|amarante do maranhao\n",
      "Processing record 509|chivay\n",
      "Processing record 510|usak\n",
      "Processing record 511|talcahuano\n",
      "City not found. skipping.\n",
      "Processing record 512|shenjiamen\n",
      "Processing record 513|salgueiro\n",
      "Processing record 514|chapleau\n",
      "Processing record 515|camacha\n",
      "Processing record 516|genhe\n",
      "Processing record 517|seymchan\n",
      "City not found. skipping.\n",
      "Processing record 518|penzance\n",
      "Processing record 519|totoral\n",
      "Processing record 520|alyangula\n",
      "Processing record 521|wilmington\n",
      "Processing record 522|morant bay\n",
      "Processing record 523|kirakira\n",
      "Processing record 524|pisco\n",
      "Processing record 525|port hawkesbury\n",
      "Processing record 526|karasjok\n",
      "Processing record 527|tucuman\n",
      "Processing record 528|formosa\n",
      "Processing record 529|kuah\n",
      "Processing record 530|iranshahr\n",
      "Processing record 531|ilebo\n",
      "City not found. skipping.\n",
      "Processing record 532|moses lake\n",
      "Processing record 533|mattru\n",
      "Processing record 534|zyryanka\n",
      "Processing record 535|southbridge\n",
      "Processing record 536|bitkine\n",
      "Processing record 537|pringsewu\n",
      "Processing record 538|ginir\n",
      "Processing record 539|skibbereen\n",
      "Processing record 540|rawson\n",
      "Processing record 541|urengoy\n",
      "Processing record 542|ancud\n",
      "Processing record 543|kenai\n",
      "Processing record 544|ola\n",
      "Processing record 545|laela\n",
      "Processing record 546|forbes\n",
      "Processing record 547|guerrero negro\n",
      "Processing record 548|conakry\n",
      "Processing record 549|pacific grove\n",
      "Processing record 550|bayan\n",
      "Processing record 551|matara\n",
      "Processing record 552|comodoro rivadavia\n",
      "Processing record 553|loukhi\n",
      "Processing record 554|mbandaka\n",
      "Processing record 555|pella\n",
      "Processing record 556|norfolk\n",
      "Processing record 557|botwood\n",
      "Processing record 558|laguna\n",
      "Processing record 559|srandakan\n",
      "Processing record 560|muisne\n",
      "City not found. skipping.\n",
      "Processing record 561|wenling\n",
      "Processing record 562|parksville\n",
      "Processing record 563|prainha\n",
      "Processing record 564|slave lake\n",
      "Processing record 565|jorochito\n",
      "City not found. skipping.\n",
      "City not found. skipping.\n",
      "Processing record 566|lima\n",
      "Processing record 567|hatten\n",
      "Processing record 568|price\n",
      "Processing record 569|santa rosa\n"
     ]
    }
   ],
   "source": [
    "url = \"http://api.openweathermap.org/data/2.5/weather?units=metric&\"\n",
    "\n",
    "#Define empty lists to store values\n",
    "cloudiness = []\n",
    "country = []\n",
    "date = []\n",
    "max_temp = []\n",
    "humidity = []\n",
    "lat = []\n",
    "lng = []\n",
    "wind_speed = []\n",
    "city_name = []\n",
    "\n",
    "#Looping through cities to make api calls using city as query\n",
    "i = 1\n",
    "for city in cities:\n",
    "    city=city\n",
    "    query_url = url + \"appid=\" + weather_api_key + \"&q=\" + city\n",
    "    response = requests.get(query_url).json()\n",
    "    \n",
    "#Extracting data. Missing data is handled by try and except  \n",
    "    try:\n",
    "        \n",
    "        cloudiness.append(response[\"clouds\"][\"all\"])\n",
    "        country.append(response[\"sys\"][\"country\"])\n",
    "        date.append(response[\"dt\"])\n",
    "        max_temp.append(response[\"main\"]['temp_max'])\n",
    "        humidity.append(response[\"main\"]['humidity'])\n",
    "        lat.append(response[\"coord\"][\"lat\"])  \n",
    "        lng.append(response[\"coord\"][\"lon\"])\n",
    "        wind_speed.append(response[\"wind\"][\"speed\"])\n",
    "        city_name.append(response[\"name\"])\n",
    "        print(f\"Processing record {i}|{city}\")\n",
    "        i+=1\n",
    "    except (KeyError):\n",
    "        print(\"City not found. skipping.\")"
   ]
  },
  {
   "cell_type": "markdown",
   "metadata": {},
   "source": [
    "### Convert Raw Data to DataFrame\n",
    "* Export the city data into a .csv.\n",
    "* Display the DataFrame"
   ]
  },
  {
   "cell_type": "code",
   "execution_count": 27,
   "metadata": {},
   "outputs": [
    {
     "data": {
      "text/html": [
       "<div>\n",
       "<style scoped>\n",
       "    .dataframe tbody tr th:only-of-type {\n",
       "        vertical-align: middle;\n",
       "    }\n",
       "\n",
       "    .dataframe tbody tr th {\n",
       "        vertical-align: top;\n",
       "    }\n",
       "\n",
       "    .dataframe thead th {\n",
       "        text-align: right;\n",
       "    }\n",
       "</style>\n",
       "<table border=\"1\" class=\"dataframe\">\n",
       "  <thead>\n",
       "    <tr style=\"text-align: right;\">\n",
       "      <th></th>\n",
       "      <th>City</th>\n",
       "      <th>Country</th>\n",
       "      <th>Date</th>\n",
       "      <th>Lat</th>\n",
       "      <th>Lng</th>\n",
       "      <th>Max Temp</th>\n",
       "      <th>Humidity</th>\n",
       "      <th>Wind Speed</th>\n",
       "      <th>Cloudiness</th>\n",
       "    </tr>\n",
       "  </thead>\n",
       "  <tbody>\n",
       "    <tr>\n",
       "      <th>0</th>\n",
       "      <td>Hermanus</td>\n",
       "      <td>ZA</td>\n",
       "      <td>1640605066</td>\n",
       "      <td>-34.4187</td>\n",
       "      <td>19.2345</td>\n",
       "      <td>22.17</td>\n",
       "      <td>74</td>\n",
       "      <td>8.64</td>\n",
       "      <td>100</td>\n",
       "    </tr>\n",
       "    <tr>\n",
       "      <th>1</th>\n",
       "      <td>Saint Paul Harbor</td>\n",
       "      <td>US</td>\n",
       "      <td>1640605067</td>\n",
       "      <td>57.7900</td>\n",
       "      <td>-152.4072</td>\n",
       "      <td>4.86</td>\n",
       "      <td>84</td>\n",
       "      <td>4.85</td>\n",
       "      <td>69</td>\n",
       "    </tr>\n",
       "    <tr>\n",
       "      <th>2</th>\n",
       "      <td>Avarua</td>\n",
       "      <td>CK</td>\n",
       "      <td>1640604893</td>\n",
       "      <td>-21.2078</td>\n",
       "      <td>-159.7750</td>\n",
       "      <td>23.03</td>\n",
       "      <td>78</td>\n",
       "      <td>1.03</td>\n",
       "      <td>53</td>\n",
       "    </tr>\n",
       "    <tr>\n",
       "      <th>3</th>\n",
       "      <td>Port Alfred</td>\n",
       "      <td>ZA</td>\n",
       "      <td>1640605067</td>\n",
       "      <td>-33.5906</td>\n",
       "      <td>26.8910</td>\n",
       "      <td>23.00</td>\n",
       "      <td>82</td>\n",
       "      <td>6.18</td>\n",
       "      <td>91</td>\n",
       "    </tr>\n",
       "    <tr>\n",
       "      <th>4</th>\n",
       "      <td>Yellowknife</td>\n",
       "      <td>CA</td>\n",
       "      <td>1640605068</td>\n",
       "      <td>62.4560</td>\n",
       "      <td>-114.3525</td>\n",
       "      <td>-30.33</td>\n",
       "      <td>94</td>\n",
       "      <td>4.63</td>\n",
       "      <td>90</td>\n",
       "    </tr>\n",
       "  </tbody>\n",
       "</table>\n",
       "</div>"
      ],
      "text/plain": [
       "                City Country        Date      Lat       Lng  Max Temp  \\\n",
       "0           Hermanus      ZA  1640605066 -34.4187   19.2345     22.17   \n",
       "1  Saint Paul Harbor      US  1640605067  57.7900 -152.4072      4.86   \n",
       "2             Avarua      CK  1640604893 -21.2078 -159.7750     23.03   \n",
       "3        Port Alfred      ZA  1640605067 -33.5906   26.8910     23.00   \n",
       "4        Yellowknife      CA  1640605068  62.4560 -114.3525    -30.33   \n",
       "\n",
       "   Humidity  Wind Speed  Cloudiness  \n",
       "0        74        8.64         100  \n",
       "1        84        4.85          69  \n",
       "2        78        1.03          53  \n",
       "3        82        6.18          91  \n",
       "4        94        4.63          90  "
      ]
     },
     "execution_count": 27,
     "metadata": {},
     "output_type": "execute_result"
    }
   ],
   "source": [
    "# Create lists and place them into a dictionary\n",
    "weather_dict = {'City': city_name,\n",
    "               'Country': country,\n",
    "               'Date': date,\n",
    "               'Lat':lat,\n",
    "               'Lng':lng,\n",
    "               'Max Temp':max_temp,\n",
    "               'Humidity':humidity,\n",
    "               'Wind Speed':wind_speed,\n",
    "               'Cloudiness':cloudiness}\n",
    "\n",
    "# Turn weather dictionary into a dataframe\n",
    "weather_df = pd.DataFrame(weather_dict)\n",
    "\n",
    "# Print to check\n",
    "weather_df.head(5)"
   ]
  },
  {
   "cell_type": "code",
   "execution_count": 30,
   "metadata": {},
   "outputs": [],
   "source": [
    "# Export the weather dataframe into a .csv.\n",
    "weather_df.to_csv('weather.csv', index = None, header = True)"
   ]
  },
  {
   "cell_type": "code",
   "execution_count": 38,
   "metadata": {},
   "outputs": [],
   "source": [
    "# Use sort to find humidity if > 100%\n",
    "humidity_check = weather_df.sort_values(by=['Humidity'], ascending=False)"
   ]
  },
  {
   "cell_type": "code",
   "execution_count": null,
   "metadata": {},
   "outputs": [],
   "source": []
  },
  {
   "cell_type": "code",
   "execution_count": 16,
   "metadata": {},
   "outputs": [
    {
     "data": {
      "text/html": [
       "<div>\n",
       "<style scoped>\n",
       "    .dataframe tbody tr th:only-of-type {\n",
       "        vertical-align: middle;\n",
       "    }\n",
       "\n",
       "    .dataframe tbody tr th {\n",
       "        vertical-align: top;\n",
       "    }\n",
       "\n",
       "    .dataframe thead th {\n",
       "        text-align: right;\n",
       "    }\n",
       "</style>\n",
       "<table border=\"1\" class=\"dataframe\">\n",
       "  <thead>\n",
       "    <tr style=\"text-align: right;\">\n",
       "      <th></th>\n",
       "      <th>Lat</th>\n",
       "      <th>Lng</th>\n",
       "      <th>Max Temp</th>\n",
       "      <th>Humidity</th>\n",
       "      <th>Cloudiness</th>\n",
       "      <th>Wind Speed</th>\n",
       "      <th>Date</th>\n",
       "    </tr>\n",
       "  </thead>\n",
       "  <tbody>\n",
       "    <tr>\n",
       "      <td>count</td>\n",
       "      <td>599.000000</td>\n",
       "      <td>599.000000</td>\n",
       "      <td>599.000000</td>\n",
       "      <td>599.000000</td>\n",
       "      <td>599.000000</td>\n",
       "      <td>599.000000</td>\n",
       "      <td>5.990000e+02</td>\n",
       "    </tr>\n",
       "    <tr>\n",
       "      <td>mean</td>\n",
       "      <td>19.877028</td>\n",
       "      <td>19.568998</td>\n",
       "      <td>69.794808</td>\n",
       "      <td>69.353923</td>\n",
       "      <td>51.569282</td>\n",
       "      <td>7.979416</td>\n",
       "      <td>1.593605e+09</td>\n",
       "    </tr>\n",
       "    <tr>\n",
       "      <td>std</td>\n",
       "      <td>33.262944</td>\n",
       "      <td>91.418472</td>\n",
       "      <td>15.678452</td>\n",
       "      <td>22.704698</td>\n",
       "      <td>35.405602</td>\n",
       "      <td>5.660694</td>\n",
       "      <td>5.738815e+01</td>\n",
       "    </tr>\n",
       "    <tr>\n",
       "      <td>min</td>\n",
       "      <td>-54.800000</td>\n",
       "      <td>-179.170000</td>\n",
       "      <td>12.200000</td>\n",
       "      <td>7.000000</td>\n",
       "      <td>0.000000</td>\n",
       "      <td>0.360000</td>\n",
       "      <td>1.593605e+09</td>\n",
       "    </tr>\n",
       "    <tr>\n",
       "      <td>25%</td>\n",
       "      <td>-8.540000</td>\n",
       "      <td>-61.210000</td>\n",
       "      <td>59.000000</td>\n",
       "      <td>55.000000</td>\n",
       "      <td>20.000000</td>\n",
       "      <td>3.620000</td>\n",
       "      <td>1.593605e+09</td>\n",
       "    </tr>\n",
       "    <tr>\n",
       "      <td>50%</td>\n",
       "      <td>24.370000</td>\n",
       "      <td>24.670000</td>\n",
       "      <td>73.110000</td>\n",
       "      <td>75.000000</td>\n",
       "      <td>59.000000</td>\n",
       "      <td>6.730000</td>\n",
       "      <td>1.593605e+09</td>\n",
       "    </tr>\n",
       "    <tr>\n",
       "      <td>75%</td>\n",
       "      <td>46.585000</td>\n",
       "      <td>102.255000</td>\n",
       "      <td>80.600000</td>\n",
       "      <td>87.000000</td>\n",
       "      <td>85.000000</td>\n",
       "      <td>11.050000</td>\n",
       "      <td>1.593605e+09</td>\n",
       "    </tr>\n",
       "    <tr>\n",
       "      <td>max</td>\n",
       "      <td>78.220000</td>\n",
       "      <td>179.320000</td>\n",
       "      <td>116.600000</td>\n",
       "      <td>100.000000</td>\n",
       "      <td>100.000000</td>\n",
       "      <td>42.500000</td>\n",
       "      <td>1.593605e+09</td>\n",
       "    </tr>\n",
       "  </tbody>\n",
       "</table>\n",
       "</div>"
      ],
      "text/plain": [
       "              Lat         Lng    Max Temp    Humidity  Cloudiness  Wind Speed  \\\n",
       "count  599.000000  599.000000  599.000000  599.000000  599.000000  599.000000   \n",
       "mean    19.877028   19.568998   69.794808   69.353923   51.569282    7.979416   \n",
       "std     33.262944   91.418472   15.678452   22.704698   35.405602    5.660694   \n",
       "min    -54.800000 -179.170000   12.200000    7.000000    0.000000    0.360000   \n",
       "25%     -8.540000  -61.210000   59.000000   55.000000   20.000000    3.620000   \n",
       "50%     24.370000   24.670000   73.110000   75.000000   59.000000    6.730000   \n",
       "75%     46.585000  102.255000   80.600000   87.000000   85.000000   11.050000   \n",
       "max     78.220000  179.320000  116.600000  100.000000  100.000000   42.500000   \n",
       "\n",
       "               Date  \n",
       "count  5.990000e+02  \n",
       "mean   1.593605e+09  \n",
       "std    5.738815e+01  \n",
       "min    1.593605e+09  \n",
       "25%    1.593605e+09  \n",
       "50%    1.593605e+09  \n",
       "75%    1.593605e+09  \n",
       "max    1.593605e+09  "
      ]
     },
     "execution_count": 16,
     "metadata": {},
     "output_type": "execute_result"
    }
   ],
   "source": []
  },
  {
   "cell_type": "markdown",
   "metadata": {},
   "source": [
    "## Inspect the data and remove the cities where the humidity > 100%.\n",
    "----\n",
    "Skip this step if there are no cities that have humidity > 100%. "
   ]
  },
  {
   "cell_type": "code",
   "execution_count": 40,
   "metadata": {},
   "outputs": [
    {
     "data": {
      "text/html": [
       "<div>\n",
       "<style scoped>\n",
       "    .dataframe tbody tr th:only-of-type {\n",
       "        vertical-align: middle;\n",
       "    }\n",
       "\n",
       "    .dataframe tbody tr th {\n",
       "        vertical-align: top;\n",
       "    }\n",
       "\n",
       "    .dataframe thead th {\n",
       "        text-align: right;\n",
       "    }\n",
       "</style>\n",
       "<table border=\"1\" class=\"dataframe\">\n",
       "  <thead>\n",
       "    <tr style=\"text-align: right;\">\n",
       "      <th></th>\n",
       "      <th>City</th>\n",
       "      <th>Country</th>\n",
       "      <th>Date</th>\n",
       "      <th>Lat</th>\n",
       "      <th>Lng</th>\n",
       "      <th>Max Temp</th>\n",
       "      <th>Humidity</th>\n",
       "      <th>Wind Speed</th>\n",
       "      <th>Cloudiness</th>\n",
       "    </tr>\n",
       "  </thead>\n",
       "  <tbody>\n",
       "    <tr>\n",
       "      <th>172</th>\n",
       "      <td>Tokur</td>\n",
       "      <td>RU</td>\n",
       "      <td>1640605156</td>\n",
       "      <td>53.1333</td>\n",
       "      <td>132.9000</td>\n",
       "      <td>-38.00</td>\n",
       "      <td>100</td>\n",
       "      <td>0.87</td>\n",
       "      <td>43</td>\n",
       "    </tr>\n",
       "    <tr>\n",
       "      <th>380</th>\n",
       "      <td>Peleduy</td>\n",
       "      <td>RU</td>\n",
       "      <td>1640605273</td>\n",
       "      <td>59.6289</td>\n",
       "      <td>112.7406</td>\n",
       "      <td>-32.06</td>\n",
       "      <td>100</td>\n",
       "      <td>0.62</td>\n",
       "      <td>74</td>\n",
       "    </tr>\n",
       "    <tr>\n",
       "      <th>223</th>\n",
       "      <td>Emerald</td>\n",
       "      <td>AU</td>\n",
       "      <td>1640605183</td>\n",
       "      <td>-23.5333</td>\n",
       "      <td>148.1667</td>\n",
       "      <td>23.08</td>\n",
       "      <td>100</td>\n",
       "      <td>0.00</td>\n",
       "      <td>83</td>\n",
       "    </tr>\n",
       "    <tr>\n",
       "      <th>40</th>\n",
       "      <td>Cherskiy</td>\n",
       "      <td>RU</td>\n",
       "      <td>1640605087</td>\n",
       "      <td>68.7500</td>\n",
       "      <td>161.3000</td>\n",
       "      <td>-38.42</td>\n",
       "      <td>100</td>\n",
       "      <td>2.27</td>\n",
       "      <td>100</td>\n",
       "    </tr>\n",
       "    <tr>\n",
       "      <th>355</th>\n",
       "      <td>Pujilí</td>\n",
       "      <td>EC</td>\n",
       "      <td>1640605259</td>\n",
       "      <td>-0.9500</td>\n",
       "      <td>-78.6833</td>\n",
       "      <td>8.05</td>\n",
       "      <td>100</td>\n",
       "      <td>1.54</td>\n",
       "      <td>40</td>\n",
       "    </tr>\n",
       "  </tbody>\n",
       "</table>\n",
       "</div>"
      ],
      "text/plain": [
       "         City Country        Date      Lat       Lng  Max Temp  Humidity  \\\n",
       "172     Tokur      RU  1640605156  53.1333  132.9000    -38.00       100   \n",
       "380   Peleduy      RU  1640605273  59.6289  112.7406    -32.06       100   \n",
       "223   Emerald      AU  1640605183 -23.5333  148.1667     23.08       100   \n",
       "40   Cherskiy      RU  1640605087  68.7500  161.3000    -38.42       100   \n",
       "355    Pujilí      EC  1640605259  -0.9500  -78.6833      8.05       100   \n",
       "\n",
       "     Wind Speed  Cloudiness  \n",
       "172        0.87          43  \n",
       "380        0.62          74  \n",
       "223        0.00          83  \n",
       "40         2.27         100  \n",
       "355        1.54          40  "
      ]
     },
     "execution_count": 40,
     "metadata": {},
     "output_type": "execute_result"
    }
   ],
   "source": [
    "# Print to check if cities over 100%\n",
    "humidity_check.head(5)\n",
    "\n",
    "# None found - I am skipping! :)"
   ]
  },
  {
   "cell_type": "code",
   "execution_count": 17,
   "metadata": {},
   "outputs": [
    {
     "data": {
      "text/plain": [
       "Int64Index([], dtype='int64')"
      ]
     },
     "execution_count": 17,
     "metadata": {},
     "output_type": "execute_result"
    }
   ],
   "source": [
    "#  Get the indices of cities that have humidity over 100%.\n"
   ]
  },
  {
   "cell_type": "code",
   "execution_count": 19,
   "metadata": {},
   "outputs": [
    {
     "data": {
      "text/html": [
       "<div>\n",
       "<style scoped>\n",
       "    .dataframe tbody tr th:only-of-type {\n",
       "        vertical-align: middle;\n",
       "    }\n",
       "\n",
       "    .dataframe tbody tr th {\n",
       "        vertical-align: top;\n",
       "    }\n",
       "\n",
       "    .dataframe thead th {\n",
       "        text-align: right;\n",
       "    }\n",
       "</style>\n",
       "<table border=\"1\" class=\"dataframe\">\n",
       "  <thead>\n",
       "    <tr style=\"text-align: right;\">\n",
       "      <th></th>\n",
       "      <th>City</th>\n",
       "      <th>Lat</th>\n",
       "      <th>Lng</th>\n",
       "      <th>Max Temp</th>\n",
       "      <th>Humidity</th>\n",
       "      <th>Cloudiness</th>\n",
       "      <th>Wind Speed</th>\n",
       "      <th>Country</th>\n",
       "      <th>Date</th>\n",
       "    </tr>\n",
       "  </thead>\n",
       "  <tbody>\n",
       "    <tr>\n",
       "      <td>0</td>\n",
       "      <td>butaritari</td>\n",
       "      <td>3.07</td>\n",
       "      <td>172.79</td>\n",
       "      <td>83.32</td>\n",
       "      <td>74</td>\n",
       "      <td>84</td>\n",
       "      <td>10.42</td>\n",
       "      <td>KI</td>\n",
       "      <td>1593605283</td>\n",
       "    </tr>\n",
       "    <tr>\n",
       "      <td>1</td>\n",
       "      <td>yerbogachen</td>\n",
       "      <td>61.28</td>\n",
       "      <td>108.01</td>\n",
       "      <td>79.52</td>\n",
       "      <td>58</td>\n",
       "      <td>20</td>\n",
       "      <td>7.70</td>\n",
       "      <td>RU</td>\n",
       "      <td>1593605121</td>\n",
       "    </tr>\n",
       "    <tr>\n",
       "      <td>2</td>\n",
       "      <td>cape town</td>\n",
       "      <td>-33.93</td>\n",
       "      <td>18.42</td>\n",
       "      <td>73.00</td>\n",
       "      <td>77</td>\n",
       "      <td>27</td>\n",
       "      <td>4.70</td>\n",
       "      <td>ZA</td>\n",
       "      <td>1593605039</td>\n",
       "    </tr>\n",
       "    <tr>\n",
       "      <td>3</td>\n",
       "      <td>touba</td>\n",
       "      <td>8.28</td>\n",
       "      <td>-7.68</td>\n",
       "      <td>79.97</td>\n",
       "      <td>75</td>\n",
       "      <td>82</td>\n",
       "      <td>3.58</td>\n",
       "      <td>CI</td>\n",
       "      <td>1593605284</td>\n",
       "    </tr>\n",
       "    <tr>\n",
       "      <td>4</td>\n",
       "      <td>jamestown</td>\n",
       "      <td>42.10</td>\n",
       "      <td>-79.24</td>\n",
       "      <td>64.00</td>\n",
       "      <td>88</td>\n",
       "      <td>1</td>\n",
       "      <td>6.93</td>\n",
       "      <td>US</td>\n",
       "      <td>1593605284</td>\n",
       "    </tr>\n",
       "  </tbody>\n",
       "</table>\n",
       "</div>"
      ],
      "text/plain": [
       "          City    Lat     Lng  Max Temp  Humidity  Cloudiness  Wind Speed  \\\n",
       "0   butaritari   3.07  172.79     83.32        74          84       10.42   \n",
       "1  yerbogachen  61.28  108.01     79.52        58          20        7.70   \n",
       "2    cape town -33.93   18.42     73.00        77          27        4.70   \n",
       "3        touba   8.28   -7.68     79.97        75          82        3.58   \n",
       "4    jamestown  42.10  -79.24     64.00        88           1        6.93   \n",
       "\n",
       "  Country        Date  \n",
       "0      KI  1593605283  \n",
       "1      RU  1593605121  \n",
       "2      ZA  1593605039  \n",
       "3      CI  1593605284  \n",
       "4      US  1593605284  "
      ]
     },
     "execution_count": 19,
     "metadata": {},
     "output_type": "execute_result"
    }
   ],
   "source": [
    "# Make a new DataFrame equal to the city data to drop all humidity outliers by index.\n",
    "# Passing \"inplace=False\" will make a copy of the city_data DataFrame, which we call \"clean_city_data\".\n"
   ]
  },
  {
   "cell_type": "code",
   "execution_count": null,
   "metadata": {},
   "outputs": [],
   "source": [
    "\n"
   ]
  },
  {
   "cell_type": "markdown",
   "metadata": {},
   "source": [
    "## Plotting the Data\n",
    "* Use proper labeling of the plots using plot titles (including date of analysis) and axes labels.\n",
    "* Save the plotted figures as .pngs."
   ]
  },
  {
   "cell_type": "markdown",
   "metadata": {},
   "source": [
    "## Latitude vs. Temperature Plot"
   ]
  },
  {
   "cell_type": "code",
   "execution_count": 48,
   "metadata": {
    "scrolled": true
   },
   "outputs": [
    {
     "data": {
      "image/png": "[encoded data removed]",
      "text/plain": [
       "<Figure size 432x288 with 1 Axes>"
      ]
     },
     "metadata": {
      "needs_background": "light"
     },
     "output_type": "display_data"
    }
   ],
   "source": [
    "# Plot Latitude vs Temperature Plot\n",
    "lat_vs_temp = plt.scatter(weather_df['Lat'],weather_df['Max Temp'])\n",
    "plt.grid()\n",
    "plt.title('Latitude vs Temperature Plot')\n",
    "plt.xlabel('Latitude')\n",
    "plt.ylabel('Temperature')\n",
    "plt.show()"
   ]
  },
  {
   "cell_type": "code",
   "execution_count": 47,
   "metadata": {},
   "outputs": [
    {
     "data": {
      "text/plain": [
       "<Figure size 432x288 with 0 Axes>"
      ]
     },
     "metadata": {},
     "output_type": "display_data"
    }
   ],
   "source": [
    "# Save the plotted as a PNG\n",
    "plt.savefig('Lat_vs_Temp.png')"
   ]
  },
  {
   "cell_type": "markdown",
   "metadata": {},
   "source": [
    "## Latitude vs. Humidity Plot"
   ]
  },
  {
   "cell_type": "code",
   "execution_count": 54,
   "metadata": {},
   "outputs": [
    {
     "data": {
      "image/png": "[encoded data removed]",
      "text/plain": [
       "<Figure size 432x288 with 1 Axes>"
      ]
     },
     "metadata": {
      "needs_background": "light"
     },
     "output_type": "display_data"
    }
   ],
   "source": [
    "# Plot Latitude vs Humidity\n",
    "lat_vs_hum = plt.scatter(weather_df['Lat'],weather_df['Humidity'])\n",
    "plt.grid()\n",
    "plt.title('Latitude vs Humidity Plot')\n",
    "plt.xlabel('Latitude')\n",
    "plt.ylabel('Humidity')\n",
    "plt.show()"
   ]
  },
  {
   "cell_type": "code",
   "execution_count": 55,
   "metadata": {},
   "outputs": [
    {
     "data": {
      "text/plain": [
       "<Figure size 432x288 with 0 Axes>"
      ]
     },
     "metadata": {},
     "output_type": "display_data"
    }
   ],
   "source": [
    "# Save the plotted as a PNG\n",
    "plt.savefig('Lat_vs_Hum.png')"
   ]
  },
  {
   "cell_type": "markdown",
   "metadata": {},
   "source": [
    "## Latitude vs. Cloudiness Plot"
   ]
  },
  {
   "cell_type": "code",
   "execution_count": 56,
   "metadata": {},
   "outputs": [
    {
     "data": {
      "image/png": "[encoded data removed]",
      "text/plain": [
       "<Figure size 432x288 with 1 Axes>"
      ]
     },
     "metadata": {
      "needs_background": "light"
     },
     "output_type": "display_data"
    }
   ],
   "source": [
    "# Plot Latitude vs Cloudiness\n",
    "lat_vs_hum = plt.scatter(weather_df['Lat'],weather_df['Cloudiness'])\n",
    "plt.grid()\n",
    "plt.title('Latitude vs Cloudiness Plot')\n",
    "plt.xlabel('Latitude')\n",
    "plt.ylabel('Cloudiness')\n",
    "plt.show()"
   ]
  },
  {
   "cell_type": "code",
   "execution_count": null,
   "metadata": {},
   "outputs": [],
   "source": []
  },
  {
   "cell_type": "code",
   "execution_count": 57,
   "metadata": {},
   "outputs": [
    {
     "data": {
      "text/plain": [
       "<Figure size 432x288 with 0 Axes>"
      ]
     },
     "metadata": {},
     "output_type": "display_data"
    }
   ],
   "source": [
    "# Save the plotted as a PNG\n",
    "plt.savefig('Lat_vs_Cloud.png')"
   ]
  },
  {
   "cell_type": "markdown",
   "metadata": {},
   "source": [
    "## Latitude vs. Wind Speed Plot"
   ]
  },
  {
   "cell_type": "code",
   "execution_count": 59,
   "metadata": {},
   "outputs": [
    {
     "data": {
      "image/png": "[encoded data removed]",
      "text/plain": [
       "<Figure size 432x288 with 1 Axes>"
      ]
     },
     "metadata": {
      "needs_background": "light"
     },
     "output_type": "display_data"
    }
   ],
   "source": [
    "# Plot Latitude vs Cloudiness\n",
    "lat_vs_hum = plt.scatter(weather_df['Lat'],weather_df['Wind Speed'])\n",
    "plt.grid()\n",
    "plt.title('Latitude vs Wind Speed Plot')\n",
    "plt.xlabel('Latitude')\n",
    "plt.ylabel('Wind Speed')\n",
    "plt.show()"
   ]
  },
  {
   "cell_type": "code",
   "execution_count": 61,
   "metadata": {},
   "outputs": [
    {
     "data": {
      "text/plain": [
       "<Figure size 432x288 with 0 Axes>"
      ]
     },
     "metadata": {},
     "output_type": "display_data"
    }
   ],
   "source": [
    "# Save the plotted as a PNG\n",
    "plt.savefig('Lat_vs_Windspeed.png')"
   ]
  },
  {
   "cell_type": "markdown",
   "metadata": {},
   "source": [
    "## Linear Regression"
   ]
  },
  {
   "cell_type": "code",
   "execution_count": 24,
   "metadata": {},
   "outputs": [],
   "source": []
  },
  {
   "cell_type": "markdown",
   "metadata": {},
   "source": [
    "####  Northern Hemisphere - Max Temp vs. Latitude Linear Regression"
   ]
  },
  {
   "cell_type": "code",
   "execution_count": 152,
   "metadata": {},
   "outputs": [],
   "source": [
    "# Create Northern Hemisphere Dataframe\n",
    "north_df = weather_df.loc[weather_df['Lat']>0]\n",
    "\n",
    "# Create Southern Hemisphere Dataframe\n",
    "south_df = weather_df.loc[weather_df['Lat']<0]"
   ]
  },
  {
   "cell_type": "code",
   "execution_count": 153,
   "metadata": {},
   "outputs": [
    {
     "name": "stdout",
     "output_type": "stream",
     "text": [
      "Regression line equation is: y =-0.82x + 36.38.\n"
     ]
    }
   ],
   "source": [
    "# Setup linear regression also setting string values to numberic \n",
    "x_values = pd.to_numeric(north_df['Lat']).astype(float)\n",
    "y_values = pd.to_numeric(north_df['Max Temp']).astype(float)\n",
    "(slope, intercept, rvalue, pvalue, stderr) = linregress(x_values, y_values)\n",
    "regress_values = x_values * slope + intercept\n",
    "line_eq = \"y =\" + str(round(slope,2)) + \"x + \" + str(round(intercept,2))\n",
    "print(f\"Regression line equation is: {line_eq}.\")"
   ]
  },
  {
   "cell_type": "code",
   "execution_count": 154,
   "metadata": {},
   "outputs": [
    {
     "data": {
      "text/plain": [
       "Text(1, 1, 'y =-0.82x + 36.38')"
      ]
     },
     "execution_count": 154,
     "metadata": {},
     "output_type": "execute_result"
    },
    {
     "data": {
      "image/png": "[encoded data removed]",
      "text/plain": [
       "<Figure size 432x288 with 1 Axes>"
      ]
     },
     "metadata": {
      "needs_background": "light"
     },
     "output_type": "display_data"
    }
   ],
   "source": [
    "# Northern Hemisphere - Max Temp vs. Latitude Linear Regression\n",
    "plt.scatter(x_values, y_values)\n",
    "plt.plot(x_values,regress_values, \"r-\")\n",
    "plt.annotate(line_eq,(1,1),fontsize = 10,color=\"red\")"
   ]
  },
  {
   "cell_type": "markdown",
   "metadata": {},
   "source": [
    "####  Southern Hemisphere - Max Temp vs. Latitude Linear Regression"
   ]
  },
  {
   "cell_type": "code",
   "execution_count": 155,
   "metadata": {},
   "outputs": [
    {
     "name": "stdout",
     "output_type": "stream",
     "text": [
      "Regression line equation is: y =0.22x + 27.68.\n"
     ]
    }
   ],
   "source": [
    "# Setup linear regression also setting string values to numberic \n",
    "x_values = pd.to_numeric(south_df['Lat']).astype(float)\n",
    "y_values = pd.to_numeric(south_df['Max Temp']).astype(float)\n",
    "(slope, intercept, rvalue, pvalue, stderr) = linregress(x_values, y_values)\n",
    "regress_values = x_values * slope + intercept\n",
    "line_eq = \"y =\" + str(round(slope,2)) + \"x + \" + str(round(intercept,2))\n",
    "print(f\"Regression line equation is: {line_eq}.\")"
   ]
  },
  {
   "cell_type": "code",
   "execution_count": 156,
   "metadata": {},
   "outputs": [
    {
     "data": {
      "text/plain": [
       "Text(1, 1, 'y =0.22x + 27.68')"
      ]
     },
     "execution_count": 156,
     "metadata": {},
     "output_type": "execute_result"
    },
    {
     "data": {
      "image/png": "[encoded data removed]",
      "text/plain": [
       "<Figure size 432x288 with 1 Axes>"
      ]
     },
     "metadata": {
      "needs_background": "light"
     },
     "output_type": "display_data"
    }
   ],
   "source": [
    "plt.scatter(x_values,y_values)\n",
    "plt.plot(x_values,regress_values, \"r-\")\n",
    "plt.annotate(line_eq,(1,1),fontsize=10,color=\"red\")"
   ]
  },
  {
   "cell_type": "markdown",
   "metadata": {},
   "source": [
    "####  Northern Hemisphere - Humidity (%) vs. Latitude Linear Regression"
   ]
  },
  {
   "cell_type": "code",
   "execution_count": 157,
   "metadata": {},
   "outputs": [
    {
     "name": "stdout",
     "output_type": "stream",
     "text": [
      "Regression line equation is y =0.54x + 52.89.\n"
     ]
    },
    {
     "data": {
      "text/plain": [
       "[<matplotlib.lines.Line2D at 0x20ff8997a60>]"
      ]
     },
     "execution_count": 157,
     "metadata": {},
     "output_type": "execute_result"
    },
    {
     "data": {
      "image/png": "[encoded data removed]",
      "text/plain": [
       "<Figure size 432x288 with 1 Axes>"
      ]
     },
     "metadata": {
      "needs_background": "light"
     },
     "output_type": "display_data"
    }
   ],
   "source": [
    "x_values = pd.to_numeric(north_df['Lat']).astype(float)\n",
    "y_values = pd.to_numeric(north_df['Humidity']).astype(float)\n",
    "(slope, intercept, rvalue, pvalue, stderr) = linregress(x_values, y_values)\n",
    "regress_values = x_values * slope + intercept\n",
    "line_eq = \"y =\" + str(round(slope,2)) + \"x + \" + str(round(intercept,2))\n",
    "print(f\"Regression line equation is {line_eq}.\")\n",
    "plt.scatter(x_values,y_values)\n",
    "plt.plot(x_values,regress_values, \"r-\")"
   ]
  },
  {
   "cell_type": "markdown",
   "metadata": {},
   "source": [
    "####  Southern Hemisphere - Humidity (%) vs. Latitude Linear Regression"
   ]
  },
  {
   "cell_type": "code",
   "execution_count": 158,
   "metadata": {},
   "outputs": [
    {
     "name": "stdout",
     "output_type": "stream",
     "text": [
      "Regression line equation is: y =0.3x + 79.73.\n"
     ]
    },
    {
     "data": {
      "text/plain": [
       "Text(1, 1, 'y =0.3x + 79.73')"
      ]
     },
     "execution_count": 158,
     "metadata": {},
     "output_type": "execute_result"
    },
    {
     "data": {
      "image/png": "[encoded data removed]",
      "text/plain": [
       "<Figure size 432x288 with 1 Axes>"
      ]
     },
     "metadata": {
      "needs_background": "light"
     },
     "output_type": "display_data"
    }
   ],
   "source": [
    "x_values = pd.to_numeric(south_df['Lat']).astype(float)\n",
    "y_values = pd.to_numeric(south_df['Humidity']).astype(float)\n",
    "(slope, intercept, rvalue, pvalue, stderr) = linregress(x_values, y_values)\n",
    "regress_values = x_values * slope + intercept\n",
    "line_eq = \"y =\" + str(round(slope,2)) + \"x + \" + str(round(intercept,2))\n",
    "print(f\"Regression line equation is: {line_eq}.\")\n",
    "plt.scatter(x_values,y_values)\n",
    "plt.plot(x_values,regress_values, \"r-\")\n",
    "plt.annotate(line_eq,(1,1),fontsize=10,color=\"red\")"
   ]
  },
  {
   "cell_type": "markdown",
   "metadata": {},
   "source": [
    "####  Northern Hemisphere - Cloudiness (%) vs. Latitude Linear Regression"
   ]
  },
  {
   "cell_type": "code",
   "execution_count": 159,
   "metadata": {},
   "outputs": [
    {
     "name": "stdout",
     "output_type": "stream",
     "text": [
      "Regression line equation is: y =0.42x + 41.2.\n"
     ]
    },
    {
     "data": {
      "text/plain": [
       "Text(1, 1, 'y =0.42x + 41.2')"
      ]
     },
     "execution_count": 159,
     "metadata": {},
     "output_type": "execute_result"
    },
    {
     "data": {
      "image/png": "[encoded data removed]",
      "text/plain": [
       "<Figure size 432x288 with 1 Axes>"
      ]
     },
     "metadata": {
      "needs_background": "light"
     },
     "output_type": "display_data"
    }
   ],
   "source": [
    "x_values = pd.to_numeric(north_df['Lat']).astype(float)\n",
    "y_values = pd.to_numeric(north_df['Cloudiness']).astype(float)\n",
    "(slope, intercept, rvalue, pvalue, stderr) = linregress(x_values, y_values)\n",
    "regress_values = x_values * slope + intercept\n",
    "line_eq = \"y =\" + str(round(slope,2)) + \"x + \" + str(round(intercept,2))\n",
    "print(f\"Regression line equation is: {line_eq}.\")\n",
    "plt.scatter(x_values,y_values)\n",
    "plt.plot(x_values,regress_values, \"r-\")\n",
    "plt.annotate(line_eq,(1,1),fontsize=10,color=\"red\")"
   ]
  },
  {
   "cell_type": "markdown",
   "metadata": {},
   "source": [
    "####  Southern Hemisphere - Cloudiness (%) vs. Latitude Linear Regression"
   ]
  },
  {
   "cell_type": "code",
   "execution_count": 160,
   "metadata": {},
   "outputs": [
    {
     "name": "stdout",
     "output_type": "stream",
     "text": [
      "Regression line equation is: y =0.91x + 84.78.\n"
     ]
    },
    {
     "data": {
      "text/plain": [
       "Text(1, 1, 'y =0.91x + 84.78')"
      ]
     },
     "execution_count": 160,
     "metadata": {},
     "output_type": "execute_result"
    },
    {
     "data": {
      "image/png": "[encoded data removed]",
      "text/plain": [
       "<Figure size 432x288 with 1 Axes>"
      ]
     },
     "metadata": {
      "needs_background": "light"
     },
     "output_type": "display_data"
    }
   ],
   "source": [
    "x_values = pd.to_numeric(south_df['Lat']).astype(float)\n",
    "y_values = pd.to_numeric(south_df['Cloudiness']).astype(float)\n",
    "(slope, intercept, rvalue, pvalue, stderr) = linregress(x_values, y_values)\n",
    "regress_values = x_values * slope + intercept\n",
    "line_eq = \"y =\" + str(round(slope,2)) + \"x + \" + str(round(intercept,2))\n",
    "print(f\"Regression line equation is: {line_eq}.\")\n",
    "plt.scatter(x_values,y_values)\n",
    "plt.plot(x_values,regress_values, \"r-\")\n",
    "plt.annotate(line_eq,(1,1),fontsize=10,color=\"red\")"
   ]
  },
  {
   "cell_type": "markdown",
   "metadata": {},
   "source": [
    "####  Northern Hemisphere - Wind Speed (mph) vs. Latitude Linear Regression"
   ]
  },
  {
   "cell_type": "code",
   "execution_count": 161,
   "metadata": {},
   "outputs": [
    {
     "name": "stdout",
     "output_type": "stream",
     "text": [
      "Regression line equation is: y =0.0x + 3.55.\n"
     ]
    }
   ],
   "source": [
    "x_values = pd.to_numeric(north_df['Lat']).astype(float)\n",
    "y_values = pd.to_numeric(north_df['Wind Speed']).astype(float)\n",
    "(slope, intercept, rvalue, pvalue, stderr) = linregress(x_values, y_values)\n",
    "regress_values = x_values * slope + intercept\n",
    "line_eq = \"y =\" + str(round(slope,2)) + \"x + \" + str(round(intercept,2))\n",
    "print(f\"Regression line equation is: {line_eq}.\")"
   ]
  },
  {
   "cell_type": "code",
   "execution_count": 149,
   "metadata": {},
   "outputs": [
    {
     "data": {
      "text/plain": [
       "Text(1, 1, 'y =0.0x + 3.55')"
      ]
     },
     "execution_count": 149,
     "metadata": {},
     "output_type": "execute_result"
    },
    {
     "data": {
      "image/png": "[encoded data removed]",
      "text/plain": [
       "<Figure size 432x288 with 1 Axes>"
      ]
     },
     "metadata": {
      "needs_background": "light"
     },
     "output_type": "display_data"
    }
   ],
   "source": [
    "plt.scatter(x_values,y_values)\n",
    "plt.plot(x_values,regress_values, \"r-\")\n",
    "plt.annotate(line_eq,(1,1),fontsize=10,color=\"red\")"
   ]
  },
  {
   "cell_type": "markdown",
   "metadata": {},
   "source": [
    "####  Southern Hemisphere - Wind Speed (mph) vs. Latitude Linear Regression"
   ]
  },
  {
   "cell_type": "code",
   "execution_count": 145,
   "metadata": {},
   "outputs": [
    {
     "name": "stdout",
     "output_type": "stream",
     "text": [
      "Regression line equation is: y =-0.04x + 2.64.\n"
     ]
    },
    {
     "data": {
      "text/plain": [
       "Text(1, 1, 'y =-0.04x + 2.64')"
      ]
     },
     "execution_count": 145,
     "metadata": {},
     "output_type": "execute_result"
    },
    {
     "data": {
      "image/png": "[encoded data removed]",
      "text/plain": [
       "<Figure size 432x288 with 1 Axes>"
      ]
     },
     "metadata": {
      "needs_background": "light"
     },
     "output_type": "display_data"
    }
   ],
   "source": [
    "x_values = pd.to_numeric(south_df['Lat']).astype(float)\n",
    "y_values = pd.to_numeric(south_df['Wind Speed']).astype(float)\n",
    "(slope, intercept, rvalue, pvalue, stderr) = linregress(x_values, y_values)\n",
    "regress_values = x_values * slope + intercept\n",
    "line_eq = \"y =\" + str(round(slope,2)) + \"x + \" + str(round(intercept,2))\n",
    "print(f\"Regression line equation is: {line_eq}.\")\n",
    "plt.scatter(x_values,y_values)\n",
    "plt.plot(x_values,regress_values, \"r-\")\n",
    "plt.annotate(line_eq,(1,1),fontsize=10,color=\"red\")"
   ]
  },
  {
   "cell_type": "code",
   "execution_count": null,
   "metadata": {},
   "outputs": [],
   "source": []
  }
 ],
 "metadata": {
  "anaconda-cloud": {},
  "kernel_info": {
   "name": "python3"
  },
  "kernelspec": {
   "display_name": "Python 3",
   "language": "python",
   "name": "python3"
  },
  "language_info": {
   "codemirror_mode": {
    "name": "ipython",
    "version": 3
   },
   "file_extension": ".py",
   "mimetype": "text/x-python",
   "name": "python",
   "nbconvert_exporter": "python",
   "pygments_lexer": "ipython3",
   "version": "3.8.8"
  },
  "latex_envs": {
   "LaTeX_envs_menu_present": true,
   "autoclose": false,
   "autocomplete": true,
   "bibliofile": "biblio.bib",
   "cite_by": "apalike",
   "current_citInitial": 1,
   "eqLabelWithNumbers": true,
   "eqNumInitial": 1,
   "hotkeys": {
    "equation": "Ctrl-E",
    "itemize": "Ctrl-I"
   },
   "labels_anchors": false,
   "latex_user_defs": false,
   "report_style_numbering": false,
   "user_envs_cfg": false
  },
  "nteract": {
   "version": "0.12.3"
  }
 },
 "nbformat": 4,
 "nbformat_minor": 4
}
